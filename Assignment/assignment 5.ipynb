{
 "cells": [
  {
   "cell_type": "code",
   "execution_count": 7,
   "metadata": {},
   "outputs": [
    {
     "name": "stdout",
     "output_type": "stream",
     "text": [
      "Enter a number:      5\n",
      "120\n"
     ]
    }
   ],
   "source": [
    "# q no:1\n",
    "# code ffor factorial\n",
    "def factorial(n):\n",
    "    if n==0:\n",
    "        return 1\n",
    "    else:\n",
    "        return n*factorial(n-1)\n",
    "n = int(input(\"Enter a number:      \"))\n",
    "print (factorial(n))"
   ]
  },
  {
   "cell_type": "code",
   "execution_count": 8,
   "metadata": {},
   "outputs": [
    {
     "name": "stdout",
     "output_type": "stream",
     "text": [
      "String :  Pakistan Is Beautifull Country\n",
      "No. of Upper case letters :  4\n",
      "No. of Lower case letters :  23\n"
     ]
    }
   ],
   "source": [
    "#q no; 2\n",
    "# code for upper and lower case \n",
    "def string_check(s):\n",
    "    d={\"UPPER_CASE\":0, \"LOWER_CASE\":0}\n",
    "    for c in s:\n",
    "        if c.isupper():\n",
    "           d[\"UPPER_CASE\"]+=1\n",
    "        elif c.islower():\n",
    "           d[\"LOWER_CASE\"]+=1\n",
    "        else:\n",
    "           pass\n",
    "    print (\"String : \", s)\n",
    "    print (\"No. of Upper case letters : \", d[\"UPPER_CASE\"])\n",
    "    print (\"No. of Lower case letters : \", d[\"LOWER_CASE\"])\n",
    "\n",
    "string_check('Pakistan Is Beautifull Country')"
   ]
  },
  {
   "cell_type": "code",
   "execution_count": 9,
   "metadata": {},
   "outputs": [
    {
     "name": "stdout",
     "output_type": "stream",
     "text": [
      "[2, 4, 6, 8, 10, 12, 14]\n"
     ]
    }
   ],
   "source": [
    "# q no; 3\n",
    "def check_even_num(l):\n",
    "    evennum = []\n",
    "    for n in l:\n",
    "        if n % 2 == 0:\n",
    "            evennum.append(n)\n",
    "    return evennum\n",
    "print(check_even_num([1, 2, 3, 4, 5, 6, 7, 8, 9, 10, 11, 12, 13, 14, 15]))\n",
    " "
   ]
  },
  {
   "cell_type": "code",
   "execution_count": 14,
   "metadata": {},
   "outputs": [
    {
     "name": "stdout",
     "output_type": "stream",
     "text": [
      "True\n"
     ]
    }
   ],
   "source": [
    "#q no; 4\n",
    "#checkk palindrome\n",
    "def check(string):\n",
    "    left_side = 0\n",
    "    right_side = len(string) - 1\n",
    "\n",
    "    while right_side >= left_side:\n",
    "        if not string[left_side] == string[right_side]:\n",
    "           return False\n",
    "        left_side += 1\n",
    "        right_side -= 1\n",
    "    return True\n",
    "print(check('abcdcba'))"
   ]
  },
  {
   "cell_type": "code",
   "execution_count": 17,
   "metadata": {},
   "outputs": [
    {
     "name": "stdout",
     "output_type": "stream",
     "text": [
      "True\n"
     ]
    }
   ],
   "source": [
    "#q no; 5\n",
    "def is_prime(n):\n",
    "    if (n==1):\n",
    "        return False\n",
    "    elif (n==2):\n",
    "        return True;\n",
    "    else:\n",
    "        for x in range(2,n):\n",
    "            if(n % x==0):\n",
    "                return False\n",
    "        return True             \n",
    "print(is_prime(23))"
   ]
  },
  {
   "cell_type": "code",
   "execution_count": 21,
   "metadata": {},
   "outputs": [
    {
     "name": "stdout",
     "output_type": "stream",
     "text": [
      "Enter your budget : 800\n",
      "1.ADD\n",
      "2.EXIT\n",
      "Enter your choice : 1\n",
      "Enter product name : rice\n",
      "Enter quantity : 2kg\n",
      "Enter price of the product : 300\n",
      "\n",
      "amount left 500.0\n",
      "1.ADD\n",
      "2.EXIT\n",
      "Enter your choice : 1\n",
      "Enter product name : milk\n",
      "Enter quantity : 3litter\n",
      "Enter price of the product : 300\n",
      "\n",
      "amount left 200.0\n",
      "1.ADD\n",
      "2.EXIT\n",
      "Enter your choice : 1\n",
      "Enter product name : biscuit\n",
      "Enter quantity : 3 kg\n",
      "Enter price of the product : 150\n",
      "\n",
      "amount left 50.0\n",
      "1.ADD\n",
      "2.EXIT\n",
      "Enter your choice : 2\n",
      "\n",
      "Amount left : Rs. 50.0\n",
      "\n",
      "\n",
      "\n",
      "GROCERY LIST\n",
      "rice 2kg 300.0\n",
      "milk 3litter 300.0\n",
      "biscuit 3 kg 150.0\n"
     ]
    }
   ],
   "source": [
    "# q no ;6\n",
    "while True:  \n",
    "    try: \n",
    "        bg = float(input(\"Enter your budget : \")) \n",
    "        \n",
    "        s = bg  \n",
    "    except ValueError: \n",
    "        print(\"PRINT NUMBER AS A AMOUNT\") \n",
    "        continue\n",
    "    else: \n",
    "        break\n",
    "  \n",
    "\n",
    "a ={\"name\":[], \"quant\":[], \"price\":[]} \n",
    "  \n",
    " \n",
    "b = list(a.values()) \n",
    "  \n",
    " \n",
    "na = b[0] \n",
    "  \n",
    " \n",
    "qu = b[1] \n",
    "  \n",
    " \n",
    "pr = b[2] \n",
    "  \n",
    "\n",
    "while True: \n",
    "    try: \n",
    "        ch = int(input(\"1.ADD\\n2.EXIT\\nEnter your choice : \")) \n",
    "    except ValueError: \n",
    "        print(\"\\nERROR: Choose only digits from the given option\") \n",
    "        continue\n",
    "    else: \n",
    "        \n",
    "        if ch == 1 and s>0:        \n",
    "   \n",
    "                             \n",
    "            pn = input(\"Enter product name : \")  \n",
    "             \n",
    "            q = input(\"Enter quantity : \") \n",
    "            \n",
    "            p = float(input(\"Enter price of the product : \"))   \n",
    "  \n",
    "            if p>s: \n",
    "                \n",
    "                print(\"\\nCAN, T BUT THE PRODUCT\")  \n",
    "                continue\n",
    "  \n",
    "            else: \n",
    "                 \n",
    "                if pn in na:   \n",
    "                     \n",
    "                    ind = na.index(pn)   \n",
    "  \n",
    "                    \n",
    "                    qu.remove(qu[ind])  \n",
    "  \n",
    "                     \n",
    "                    pr.remove(pr[ind])   \n",
    "  \n",
    "                     \n",
    "                    qu.insert(ind, q)    \n",
    "  \n",
    "                    \n",
    "                    pr.insert(ind, p)    \n",
    "  \n",
    "                    \n",
    "                    s = bg-sum(pr)    \n",
    "  \n",
    "                    print(\"\\namount left\", s) \n",
    "                else: \n",
    "                    \n",
    "                    na.append(pn)   \n",
    "   \n",
    "                     \n",
    "                     \n",
    "                    qu.append(q)    \n",
    "  \n",
    "                     \n",
    "                    pr.append(p)     \n",
    "  \n",
    "                    \n",
    "                    s = bg-sum(pr)    \n",
    "  \n",
    "                    print(\"\\namount left\", s) \n",
    "  \n",
    "         \n",
    "        elif s<= 0:  \n",
    "            print(\"\\nNO BUDGET\")  \n",
    "        else: \n",
    "            break \n",
    "  \n",
    " \n",
    "print(\"\\nAmount left : Rs.\", s)  \n",
    "  \n",
    " \n",
    "if s in pr:  \n",
    " \n",
    "    print(\"\\nAmount left can buy you a\", na[pr.index(s)])   \n",
    "  \n",
    "print(\"\\n\\n\\nGROCERY LIST\") \n",
    "  \n",
    " \n",
    "for i in range(len(na)):  \n",
    "    print(na[i], qu[i], pr[i]) \n"
   ]
  },
  {
   "cell_type": "code",
   "execution_count": null,
   "metadata": {},
   "outputs": [],
   "source": []
  }
 ],
 "metadata": {
  "kernelspec": {
   "display_name": "Python 3",
   "language": "python",
   "name": "python3"
  },
  "language_info": {
   "codemirror_mode": {
    "name": "ipython",
    "version": 3
   },
   "file_extension": ".py",
   "mimetype": "text/x-python",
   "name": "python",
   "nbconvert_exporter": "python",
   "pygments_lexer": "ipython3",
   "version": "3.7.4"
  }
 },
 "nbformat": 4,
 "nbformat_minor": 2
}
