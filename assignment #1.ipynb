{
 "cells": [
  {
   "cell_type": "code",
   "execution_count": 3,
   "metadata": {},
   "outputs": [
    {
     "name": "stdout",
     "output_type": "stream",
     "text": [
      "Twinkle,twinkle,littlestar,\n",
      "\tHow i wonder what you are!,\n",
      "\t\tup above the world so high,\n",
      "\t\tLike a diamond in the sky.\n",
      "Twinkle,twinkle,little star,\n",
      "\tHow I wonder what you are\n"
     ]
    }
   ],
   "source": [
    "# q no.1\n",
    "print(\"Twinkle,twinkle,littlestar,\"\n",
    "      \"\\n\\tHow i wonder what you are!,\"\n",
    "      \"\\n\\t\\tup above the world so high,\"\n",
    "      \"\\n\\t\\tLike a diamond in the sky.\"\n",
    "     \"\\nTwinkle,twinkle,little star,\"\n",
    "     \"\\n\\tHow I wonder what you are\")"
   ]
  },
  {
   "cell_type": "code",
   "execution_count": 4,
   "metadata": {},
   "outputs": [
    {
     "name": "stdout",
     "output_type": "stream",
     "text": [
      "python version\n",
      "3.7.4 (default, Aug  9 2019, 18:34:13) [MSC v.1915 64 bit (AMD64)]\n"
     ]
    }
   ],
   "source": [
    "# q no.2\n",
    "#to get the python version\n",
    "print(\"python version\")\n",
    "import sys\n",
    "print(sys.version)"
   ]
  },
  {
   "cell_type": "code",
   "execution_count": 8,
   "metadata": {},
   "outputs": [
    {
     "name": "stdout",
     "output_type": "stream",
     "text": [
      "today is: 2019-11-03 02:50:00.777810\n"
     ]
    }
   ],
   "source": [
    " #q no. 3\n",
    " # program to display date and time\n",
    "from datetime import datetime\n",
    "date_and_time = datetime.now()\n",
    "print(\"today is:\",date_and_time)"
   ]
  },
  {
   "cell_type": "code",
   "execution_count": 10,
   "metadata": {},
   "outputs": [
    {
     "name": "stdout",
     "output_type": "stream",
     "text": [
      "enter the radius of circle:1.1\n",
      "the area of circle with radius1.1is:3.8013271108436504\n"
     ]
    }
   ],
   "source": [
    "#q no.4\n",
    "# accept the radius of the circle from the user and compute  the area\n",
    "from math import pi\n",
    "r=float(input(\"enter the radius of circle:\"))\n",
    "print(\"the area of circle with radius\"+str(r)+\"is:\"+ str(pi*r**2))\n",
    "\n",
    "                 "
   ]
  },
  {
   "cell_type": "code",
   "execution_count": 19,
   "metadata": {},
   "outputs": [
    {
     "name": "stdout",
     "output_type": "stream",
     "text": [
      "enter your first name:sana\n",
      "enter your last name:umer\n",
      "hi   umer sana\n"
     ]
    }
   ],
   "source": [
    "#q no. 5\n",
    "first_name = input(\"enter your first name:\")\n",
    "last_name  = input(\"enter your last name:\")\n",
    "print(\"hi   \" + last_name+ \" \" + first_name)"
   ]
  },
  {
   "cell_type": "code",
   "execution_count": 23,
   "metadata": {},
   "outputs": [
    {
     "name": "stdout",
     "output_type": "stream",
     "text": [
      "enter 1st no:6.6\n",
      "enter 2nd no:4.4\n",
      "the sum of 6.6 and 4.4 is 11.0\n"
     ]
    }
   ],
   "source": [
    "#qno.6\n",
    "first_input = input(\"enter 1st no:\")\n",
    "second_input= input(\"enter 2nd no:\")\n",
    "sum = float(first_input) + float(second_input)\n",
    "print(\"the sum of {0} and {1} is {2}\".format(first_input,second_input,sum))"
   ]
  },
  {
   "cell_type": "code",
   "execution_count": null,
   "metadata": {},
   "outputs": [],
   "source": []
  }
 ],
 "metadata": {
  "kernelspec": {
   "display_name": "Python 3",
   "language": "python",
   "name": "python3"
  },
  "language_info": {
   "codemirror_mode": {
    "name": "ipython",
    "version": 3
   },
   "file_extension": ".py",
   "mimetype": "text/x-python",
   "name": "python",
   "nbconvert_exporter": "python",
   "pygments_lexer": "ipython3",
   "version": "3.7.4"
  }
 },
 "nbformat": 4,
 "nbformat_minor": 2
}
